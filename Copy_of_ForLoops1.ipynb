{
  "nbformat": 4,
  "nbformat_minor": 0,
  "metadata": {
    "colab": {
      "name": "Copy of ForLoops1.ipynb",
      "provenance": [],
      "collapsed_sections": [],
      "include_colab_link": true
    },
    "kernelspec": {
      "name": "python3",
      "display_name": "Python 3"
    }
  },
  "cells": [
    {
      "cell_type": "markdown",
      "metadata": {
        "id": "view-in-github",
        "colab_type": "text"
      },
      "source": [
        "<a href=\"https://colab.research.google.com/github/CarlosFrancois/Coding/blob/main/Copy_of_ForLoops1.ipynb\" target=\"_parent\"><img src=\"https://colab.research.google.com/assets/colab-badge.svg\" alt=\"Open In Colab\"/></a>"
      ]
    },
    {
      "cell_type": "markdown",
      "metadata": {
        "id": "pnmU3c3w5tsh"
      },
      "source": [
        "# For Loops \n",
        "\n",
        "---\n"
      ]
    },
    {
      "cell_type": "markdown",
      "metadata": {
        "id": "y9vt3oJb5x8i"
      },
      "source": [
        "When you know how many times a loop should run you can use a *for* loop.  \n",
        "\n",
        "Here is an example:  \n",
        "\n",
        "Suppose we want to read 10 numbers from the keyboard, add them up and print the total. We can use a *for* loop as we know that we want to read from the keyboard exactly 10 times.\n",
        "\n",
        "The logic is:"
      ]
    },
    {
      "cell_type": "code",
      "metadata": {
        "id": "PZ2CsCQj55M7",
        "colab": {
          "base_uri": "https://localhost:8080/"
        },
        "outputId": "ba8001d7-c92c-4e92-c795-a27dd5f9703a"
      },
      "source": [
        "3# initialise a total so that it starts at 0\n",
        "# read 10 numbers from the keyboard and keep a running total\n",
        "# print the total\n",
        "\n",
        "def read_ten_nums():\n",
        "  total = 0\n",
        "  for i in range(10):\n",
        "    num = int(input(\"Enter a number\"))\n",
        "    total = total + num\n",
        "  print(total)\n",
        "\n",
        "read_ten_nums()"
      ],
      "execution_count": 112,
      "outputs": [
        {
          "output_type": "stream",
          "name": "stdout",
          "text": [
            "Enter a number1\n",
            "Enter a number2\n",
            "Enter a number3\n",
            "Enter a number4\n",
            "Enter a number5\n",
            "Enter a number1\n",
            "Enter a number2\n",
            "Enter a number34\n",
            "Enter a number5\n",
            "Enter a number5\n",
            "62\n"
          ]
        }
      ]
    },
    {
      "cell_type": "markdown",
      "metadata": {
        "id": "snWJCKCv57kz"
      },
      "source": [
        "The *for* loop here repeats 10 times. Each time round the loop, a number is read and is added to the total. After this has happened 10 times, the total will be printed.\n",
        "\n",
        "Notice that all the code to be repeated in the loop is indented, but the instruction to print is not indented like the lines above. This is because print(total) is not included in the loop, it should only run once.\n",
        "\n",
        "You can use a *for* loop on Strings too:"
      ]
    },
    {
      "cell_type": "code",
      "metadata": {
        "id": "NTrE8ib05-W8",
        "colab": {
          "base_uri": "https://localhost:8080/"
        },
        "outputId": "0317269d-fce1-48a7-b3d8-2435f6efbfed"
      },
      "source": [
        "def print_characters():\n",
        "  word = \"learning\"\n",
        "  for letter in word:\n",
        "    print(letter)\n",
        "print_characters()"
      ],
      "execution_count": null,
      "outputs": [
        {
          "output_type": "stream",
          "name": "stdout",
          "text": [
            "l\n",
            "e\n",
            "a\n",
            "r\n",
            "n\n",
            "i\n",
            "n\n",
            "g\n"
          ]
        }
      ]
    },
    {
      "cell_type": "markdown",
      "metadata": {
        "id": "Z8DJwTyR6x-m"
      },
      "source": [
        "### Using the range() function:\n",
        "\n",
        "If we would like a selection of numbers within a defined range we can use the **range()** function.\n",
        "\n",
        "It can be used in the following ways:\n",
        "\n",
        "* **range(n)** - this would give all numbers in the range 0 to n-1 \n",
        "\n",
        "* **range(num1, num2)** - this would give all numbers in range num1 to num2-1\n",
        "\n",
        "For example:\n",
        "\n",
        "If we wanted numbers within the range of 1 - 5 we would write this as range(1, 6) \n",
        "\n",
        "* the second argument must always be the number you would like the range to go up to + 1 (n+1)\n",
        "\n",
        "Here is an example that prints all the numbers up to 5, (starting at 0 as this is the default if there is no other information).  Run the code below:"
      ]
    },
    {
      "cell_type": "code",
      "metadata": {
        "id": "afGEUwDI8mQS",
        "colab": {
          "base_uri": "https://localhost:8080/"
        },
        "outputId": "df0f0366-0796-424c-8fd7-aa6aeee211b5"
      },
      "source": [
        "def show_range():\n",
        "  for i in range(6):\n",
        "    print(i)\n",
        "\n",
        "show_range()"
      ],
      "execution_count": null,
      "outputs": [
        {
          "output_type": "stream",
          "name": "stdout",
          "text": [
            "0\n",
            "1\n",
            "2\n",
            "3\n",
            "4\n",
            "5\n"
          ]
        }
      ]
    },
    {
      "cell_type": "markdown",
      "metadata": {
        "id": "4n4fM_9X9Qr4"
      },
      "source": [
        "Here is an example that prints all numbers in range 1 - 5, run the code below:"
      ]
    },
    {
      "cell_type": "code",
      "metadata": {
        "id": "Q_6Ltbik8ASH",
        "colab": {
          "base_uri": "https://localhost:8080/"
        },
        "outputId": "562c681e-aadf-4dd1-ab15-5da7e43fb275"
      },
      "source": [
        "def show_range():\n",
        "  for i in range(1, 6):\n",
        "    print(i)\n",
        "\n",
        "show_range()"
      ],
      "execution_count": null,
      "outputs": [
        {
          "output_type": "stream",
          "name": "stdout",
          "text": [
            "1\n",
            "2\n",
            "3\n",
            "4\n",
            "5\n"
          ]
        }
      ]
    },
    {
      "cell_type": "markdown",
      "metadata": {
        "id": "0bRQj0q2l13D"
      },
      "source": [
        "## Using steps\n",
        "\n",
        "In general, if we use a range, we give a starting number and a stopping number (the first number that is out of the range in the direction we are counting).  The default is to count up in 1s.  \n",
        "\n",
        "When we want a loop to count in bigger steps, we can add a further parameter in the range brackets, which represents the size of the step.\n",
        "\n",
        "e.g. to print the even numbers up to 10 (starting with the first even number)\n",
        "\n",
        "```\n",
        "for i in range(2,11,2):\n",
        "   print(i)\n",
        "```\n",
        "\n",
        "e.g. to print all multiples of 5 from 5 to 50 (starting with the first multiple)\n",
        "\n",
        "\n",
        "```\n",
        "for i in range(5,51,5):\n",
        "   print(i)\n",
        "```\n",
        "\n",
        "We can use steps to **reverse** the direction of counting.  So to count backwards from 10 to 1, we can use a step of -1.  Again, use the starting number, the number AFTER the last number to be included, in the direction we are counting, and the size and direction of the step. \n",
        "\n",
        "```\n",
        "for i in range(10, 0, -1):\n",
        "   print(i)\n",
        "```"
      ]
    },
    {
      "cell_type": "markdown",
      "metadata": {
        "id": "qhDCyPzf6A2q"
      },
      "source": [
        "### Take home point\n",
        "\n",
        "* we use *for* loops to make a section of code repeat a set number of times\n"
      ]
    },
    {
      "cell_type": "markdown",
      "metadata": {
        "id": "uyYsZBFBjfBi"
      },
      "source": [
        "---\n",
        "### Exercise 1 - number list\n",
        "\n",
        "Write a function called **list_numbers()** which will:  \n",
        "\n",
        "*  print all the whole numbers up to 9  \n",
        "\n",
        "Expected output:  \n",
        "0  \n",
        "1  \n",
        "2  \n",
        "3  \n",
        "4  \n",
        "5  \n",
        "6  \n",
        "7  \n",
        "8  \n",
        "9  "
      ]
    },
    {
      "cell_type": "code",
      "metadata": {
        "id": "FrQQh3T4jfRz",
        "colab": {
          "base_uri": "https://localhost:8080/"
        },
        "outputId": "796ea380-d544-43f2-ea06-650c146b3ae4"
      },
      "source": [
        "def list_numbers():\n",
        "  for i in range(1,10+1):\n",
        "    print(i)\n",
        "\n",
        "list_numbers()"
      ],
      "execution_count": null,
      "outputs": [
        {
          "output_type": "stream",
          "name": "stdout",
          "text": [
            "1\n",
            "2\n",
            "3\n",
            "4\n",
            "5\n",
            "6\n",
            "7\n",
            "8\n",
            "9\n",
            "10\n"
          ]
        }
      ]
    },
    {
      "cell_type": "markdown",
      "metadata": {
        "id": "AgQUGV4pj37a"
      },
      "source": [
        "---\n",
        "### Exercise 2 - list number range  \n",
        "\n",
        "Write a function called **list_number_range()** which will:  \n",
        "\n",
        "* print the numbers between 5 and 15 (including both)  \n",
        "\n",
        "Expected output:  \n",
        "5  \n",
        "6  \n",
        "7  \n",
        "8  \n",
        "9  \n",
        "10  \n",
        "11  \n",
        "12  \n",
        "13  \n",
        "14  \n",
        "15  \n",
        "\n"
      ]
    },
    {
      "cell_type": "code",
      "metadata": {
        "id": "qJVqD75bj4FR",
        "colab": {
          "base_uri": "https://localhost:8080/"
        },
        "outputId": "35bcde65-72ef-48ac-962e-619c68a643e4"
      },
      "source": [
        "def list_number_range():\n",
        "\n",
        "  for i in range(5,15+1):\n",
        "    print(i)\n",
        "\n",
        "list_number_range()    "
      ],
      "execution_count": null,
      "outputs": [
        {
          "output_type": "stream",
          "name": "stdout",
          "text": [
            "5\n",
            "6\n",
            "7\n",
            "8\n",
            "9\n",
            "10\n",
            "11\n",
            "12\n",
            "13\n",
            "14\n",
            "15\n"
          ]
        }
      ]
    },
    {
      "cell_type": "markdown",
      "metadata": {
        "id": "fzfifXcKkr8C"
      },
      "source": [
        "---\n",
        "### Exercise 3 - list evens  \n",
        "\n",
        "Write a function called **list_evens()** which will:  \n",
        "\n",
        "*  print the even numbers from 2 to 20  \n",
        "\n",
        "Expected output:  \n",
        "2  \n",
        "4  \n",
        "6  \n",
        "8  \n",
        "10  \n",
        "12  \n",
        "14  \n",
        "16  \n",
        "18  \n",
        "20  "
      ]
    },
    {
      "cell_type": "code",
      "metadata": {
        "id": "dwO_nP5EksEo",
        "colab": {
          "base_uri": "https://localhost:8080/"
        },
        "outputId": "2a7ee6a5-b9aa-45e5-e4e2-4a4f113097cd"
      },
      "source": [
        "def list_evens():\n",
        "\n",
        "  for i in range(2,20+1,2):\n",
        "    print(i)\n",
        "\n",
        "list_evens() "
      ],
      "execution_count": null,
      "outputs": [
        {
          "output_type": "stream",
          "name": "stdout",
          "text": [
            "2\n",
            "4\n",
            "6\n",
            "8\n",
            "10\n",
            "12\n",
            "14\n",
            "16\n",
            "18\n",
            "20\n"
          ]
        }
      ]
    },
    {
      "cell_type": "markdown",
      "metadata": {
        "id": "kqQ7LYx_n_k7"
      },
      "source": [
        "---\n",
        "### Exercise 4 - list multiples  \n",
        "\n",
        "Write a function called **list_multiples()** which will:\n",
        "\n",
        "*  list the multiples of 3 from 3 to 36\n",
        "\n",
        "Expected output:  \n",
        "3  \n",
        "6  \n",
        "9  \n",
        "12  \n",
        "15  \n",
        "18  \n",
        "21  \n",
        "24  \n",
        "27  \n",
        "30  \n",
        "33  \n",
        "36  "
      ]
    },
    {
      "cell_type": "code",
      "metadata": {
        "id": "6ggfz-uin_vR",
        "colab": {
          "base_uri": "https://localhost:8080/"
        },
        "outputId": "42ac45df-9188-4d8b-928f-be42f9375205"
      },
      "source": [
        "def list_multiples():\n",
        "\n",
        "  for i in range(3,36+1,3):\n",
        "    print(i)\n",
        "\n",
        "list_multiples()"
      ],
      "execution_count": null,
      "outputs": [
        {
          "output_type": "stream",
          "name": "stdout",
          "text": [
            "3\n",
            "6\n",
            "9\n",
            "12\n",
            "15\n",
            "18\n",
            "21\n",
            "24\n",
            "27\n",
            "30\n",
            "33\n",
            "36\n"
          ]
        }
      ]
    },
    {
      "cell_type": "markdown",
      "metadata": {
        "id": "HMPqYGrUolM6"
      },
      "source": [
        "---\n",
        "### Exercise 5 - reverse list\n",
        "\n",
        "Write a function called list_reverse() which will: \n",
        "\n",
        "*  print the numbers 5 to 15 in reverse\n",
        "\n",
        "Expected output:  \n",
        "15  \n",
        "14  \n",
        "13  \n",
        "12  \n",
        "11  \n",
        "10  \n",
        "9  \n",
        "8  \n",
        "7  \n",
        "6  \n",
        "5  "
      ]
    },
    {
      "cell_type": "code",
      "metadata": {
        "id": "2X_XE6J9olYI",
        "colab": {
          "base_uri": "https://localhost:8080/"
        },
        "outputId": "842e9b18-87b4-4a13-cb9c-6da40b1693de"
      },
      "source": [
        "def list_reverse():\n",
        "\n",
        "  for i in range(15,4,-1):\n",
        "    print(i)\n",
        "\n",
        "list_reverse()"
      ],
      "execution_count": null,
      "outputs": [
        {
          "output_type": "stream",
          "name": "stdout",
          "text": [
            "15\n",
            "14\n",
            "13\n",
            "12\n",
            "11\n",
            "10\n",
            "9\n",
            "8\n",
            "7\n",
            "6\n",
            "5\n"
          ]
        }
      ]
    },
    {
      "cell_type": "markdown",
      "metadata": {
        "id": "kBuUcJE56beE"
      },
      "source": [
        "---\n",
        "### Exercise 6 - sum of range\n",
        "\n",
        "Write the function **calculate_sum_of()** which will:\n",
        "\n",
        "*  set a total to 0\n",
        "*  use the `range()` function for all the numbers between 1 - 15, adding each onto a **total** in the `for loop`     \n",
        "*  print the `total`   \n",
        "\n",
        "\n",
        "Expected output:  \n",
        "120\n"
      ]
    },
    {
      "cell_type": "code",
      "metadata": {
        "id": "0WQglA1N8c_o",
        "colab": {
          "base_uri": "https://localhost:8080/"
        },
        "outputId": "cdc0a568-a0a7-4bb2-fc7b-bb2e13f4e1b1"
      },
      "source": [
        "def calculate_sum():\n",
        "\n",
        "  total = 0\n",
        "  for i in range(1,15+1):\n",
        "    total = total + i\n",
        "    \n",
        "  print(total)\n",
        "\n",
        "calculate_sum()"
      ],
      "execution_count": 10,
      "outputs": [
        {
          "output_type": "stream",
          "name": "stdout",
          "text": [
            "120\n"
          ]
        }
      ]
    },
    {
      "cell_type": "markdown",
      "metadata": {
        "id": "L4vCtL_z74-9"
      },
      "source": [
        "### Exercise 7 - calculating the average of 5 numbers   \n",
        "\n",
        "Write a function called **average()** which will:  \n",
        "\n",
        "*  set a total to 0\n",
        "*  ask the user to enter a number 5 times, using a `for loop` with a range and adding the numbers to the `total` as the loop continues  \n",
        "*  calculate the **average** of the 5 numbers  \n",
        "*  print the `total` and `average`  \n",
        "\n",
        "Test input:  \n",
        "1  \n",
        "2   \n",
        "3  \n",
        "4  \n",
        "5  \n",
        "\n",
        "Expected output:   \n",
        "3  \n",
        "\n"
      ]
    },
    {
      "cell_type": "code",
      "metadata": {
        "id": "CtjaakGg985s",
        "colab": {
          "base_uri": "https://localhost:8080/"
        },
        "outputId": "7114b5a8-172b-4fa0-eb36-b945f194c2f9"
      },
      "source": [
        "def average():\n",
        "\n",
        "  total = 0\n",
        "\n",
        "  for loop in range(5):\n",
        "    num = int(input(\"Please input a number \"))\n",
        "    total = total + num / 5\n",
        "    \n",
        "  #total = int(total)  \n",
        "  print(int(total))\n",
        "\n",
        "average()"
      ],
      "execution_count": 15,
      "outputs": [
        {
          "output_type": "stream",
          "name": "stdout",
          "text": [
            "Please input a number 1\n",
            "Please input a number 2\n",
            "Please input a number 3\n",
            "Please input a number 4\n",
            "Please input a number 5\n",
            "3\n"
          ]
        }
      ]
    },
    {
      "cell_type": "markdown",
      "metadata": {
        "id": "WS6NBYF_99hQ"
      },
      "source": [
        "### Exercise 8 - calculating times table\n",
        "\n",
        "Write a function called **display_times_table()** which will:  \n",
        "\n",
        "*  ask the user to input a **number**\n",
        "*  use a for loop and the `range()` function to calculate the first ten multiples of that number and print a times table entry as shown below \n",
        "\n",
        "Test Input:  \n",
        "4  \n",
        "\n",
        "Expected output:  \n",
        "1 x 4 = 4  \n",
        "2 x 4 = 8  \n",
        "3 x 4 = 12  \n",
        "4 x 4 = 16  \n",
        "5 x 4 = 20  \n",
        "6 x 4 = 24  \n",
        "7 x 4 = 28  \n",
        "8 x 4 = 32  \n",
        "9 x 4 = 36  \n",
        "10 x 4 = 40  "
      ]
    },
    {
      "cell_type": "code",
      "metadata": {
        "id": "UqV817Ct-5qv",
        "colab": {
          "base_uri": "https://localhost:8080/"
        },
        "outputId": "1a2b5ea2-29da-435b-8239-49bb4b05c934"
      },
      "source": [
        "def display_times_table():\n",
        "  \n",
        "  number = int(input(\"Please input a multiplication number \"))\n",
        "  for loop in range(1,10+1):\n",
        "    table = number * loop\n",
        "    print(loop, \"x\", number, \"=\", table)\n",
        "\n",
        "display_times_table() "
      ],
      "execution_count": 24,
      "outputs": [
        {
          "output_type": "stream",
          "name": "stdout",
          "text": [
            "Please input a multiplication number 4\n",
            "1 x 4 = 4\n",
            "2 x 4 = 8\n",
            "3 x 4 = 12\n",
            "4 x 4 = 16\n",
            "5 x 4 = 20\n",
            "6 x 4 = 24\n",
            "7 x 4 = 28\n",
            "8 x 4 = 32\n",
            "9 x 4 = 36\n",
            "10 x 4 = 40\n"
          ]
        }
      ]
    },
    {
      "cell_type": "markdown",
      "metadata": {
        "id": "jOukVT7--6rI"
      },
      "source": [
        "### Exercise 9 - counting down numbers in reverse \n",
        "\n",
        "Write a function called **countdown()** which will:\n",
        "\n",
        "*  ask the user to input a **number**\n",
        "*  prints numbers in a countdown starting at `number`, decreasing by 1 each time round the loop and finishing at 1\n",
        "*  after the loop, print (\"GO\") \n",
        "\n",
        "Test Input:  \n",
        "9    \n",
        "\n",
        "Expected output:   \n",
        "9  \n",
        "8  \n",
        "7  \n",
        "6  \n",
        "5  \n",
        "4  \n",
        "3  \n",
        "2  \n",
        "1  \n",
        "GO  \n"
      ]
    },
    {
      "cell_type": "code",
      "metadata": {
        "id": "0yZ7PP7HAVdO",
        "colab": {
          "base_uri": "https://localhost:8080/"
        },
        "outputId": "1c6770e7-cafc-493d-d2e6-d350acbdd215"
      },
      "source": [
        "def countdown():\n",
        "\n",
        "  number = int(input(\"Please enter the countdown number \"))\n",
        "\n",
        "  for loop in range(number,0,-1):\n",
        "    number -= 1\n",
        "    print(number + 1)\n",
        "\n",
        "  print(\"GO\")  \n",
        "\n",
        "countdown()    "
      ],
      "execution_count": 115,
      "outputs": [
        {
          "output_type": "stream",
          "name": "stdout",
          "text": [
            "Please enter the countdown number 9\n",
            "9\n",
            "8\n",
            "7\n",
            "6\n",
            "5\n",
            "4\n",
            "3\n",
            "2\n",
            "1\n",
            "GO\n"
          ]
        }
      ]
    },
    {
      "cell_type": "markdown",
      "metadata": {
        "id": "BwWzC2NXAV2P"
      },
      "source": [
        "### Exercise 10 - finding numbers which are multiples of both 3 and 10, between 500 and 1500  \n",
        "\n",
        "Write a function called **find_multiples()** which will find numbers between 500 - 1500 which are multiples of 3 and multiples of 10:\n",
        "\n",
        "*  use a for loop and the `range()` function  \n",
        "*  use an *if* statment to determine if a number is a multiple of 3 (number % 3 is 0) and a multiple of 10 (calculated the same way).  If the number is a multiple of 3 and 10, print it.      \n",
        "\n",
        "Expected output:  \n",
        "510  \n",
        "540  \n",
        "570  \n",
        "600  \n",
        "630  \n",
        "660  \n",
        "690  \n",
        "720  \n",
        "750  \n",
        "780  \n",
        "810  \n",
        "840  \n",
        "870  \n",
        "900  \n",
        "930  \n",
        "960  \n",
        "990  \n",
        "1020  \n",
        "1050  \n",
        "1080  \n",
        "1110  \n",
        "1140  \n",
        "1170  \n",
        "1200  \n",
        "1230  \n",
        "1260  \n",
        "1290  \n",
        "1320  \n",
        "1350  \n",
        "1380  \n",
        "1410  \n",
        "1440  \n",
        "1470  "
      ]
    },
    {
      "cell_type": "code",
      "metadata": {
        "id": "pN0--oheCHPC",
        "colab": {
          "base_uri": "https://localhost:8080/"
        },
        "outputId": "b437019a-dcd7-4d78-efd2-4034d527dd82"
      },
      "source": [
        "def find_multiples():\n",
        "\n",
        "  for loop in range(500,1501):\n",
        "    if loop % 3 == 0 and loop % 10 == 0:\n",
        "      print(loop) \n",
        "\n",
        "find_multiples()  "
      ],
      "execution_count": 110,
      "outputs": [
        {
          "output_type": "stream",
          "name": "stdout",
          "text": [
            "510\n",
            "540\n",
            "570\n",
            "600\n",
            "630\n",
            "660\n",
            "690\n",
            "720\n",
            "750\n",
            "780\n",
            "810\n",
            "840\n",
            "870\n",
            "900\n",
            "930\n",
            "960\n",
            "990\n",
            "1020\n",
            "1050\n",
            "1080\n",
            "1110\n",
            "1140\n",
            "1170\n",
            "1200\n",
            "1230\n",
            "1260\n",
            "1290\n",
            "1320\n",
            "1350\n",
            "1380\n",
            "1410\n",
            "1440\n",
            "1470\n",
            "1500\n"
          ]
        }
      ]
    }
  ]
}