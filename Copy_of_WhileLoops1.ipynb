{
  "cells": [
    {
      "cell_type": "markdown",
      "metadata": {
        "id": "view-in-github",
        "colab_type": "text"
      },
      "source": [
        "<a href=\"https://colab.research.google.com/github/CarlosFrancois/Coding/blob/main/Copy_of_WhileLoops1.ipynb\" target=\"_parent\"><img src=\"https://colab.research.google.com/assets/colab-badge.svg\" alt=\"Open In Colab\"/></a>"
      ]
    },
    {
      "cell_type": "markdown",
      "metadata": {
        "id": "OWGIE_ptimyf"
      },
      "source": [
        "# While loops\n",
        "\n",
        "---\n"
      ]
    },
    {
      "cell_type": "markdown",
      "metadata": {
        "id": "Kjh4DVogizl5"
      },
      "source": [
        "There are many situations when an external event (such as an input from the user or finding an invalid data value) will be the thing that will cause the loop to stop.\n",
        "\n",
        "A while loop allows us to say \"repeat these instructions while something has not yet happened, or repeat these instruction while a particular state exists\"\n",
        "\n",
        "For example, we want to ask a user to enter some positive numbers to be added to a total. They will indicate that there are no more numbers by entering -1.\n",
        "\n"
      ]
    },
    {
      "cell_type": "code",
      "execution_count": null,
      "metadata": {
        "colab": {
          "base_uri": "https://localhost:8080/"
        },
        "id": "HieVx4BrtJlU",
        "outputId": "96da2ac4-8497-49a6-f8da-76fb9fb0b19a"
      },
      "outputs": [
        {
          "name": "stdout",
          "output_type": "stream",
          "text": [
            "Enter a number, or type -1 to stop4\n",
            "Enter a number, or type -1 to stop5\n",
            "Enter a number, or type -1 to stop7\n",
            "Enter a number, or type -1 to stop3\n",
            "Enter a number, or type -1 to stop2\n",
            "Enter a number, or type -1 to stop-1\n",
            "21\n"
          ]
        }
      ],
      "source": [
        "# initialise a total to 0\n",
        "# read the first number\n",
        "# add the number to the total and keep reading next number and adding to total until -1 entered\n",
        "\n",
        "def running_total():\n",
        "    total = 0\n",
        "    num = int(input(\"Enter a number, or type -1 to stop\"))\n",
        "    while num != -1:\n",
        "        total = total + num\n",
        "        num = int(input(\"Enter a number, or type -1 to stop\"))\n",
        "    print(total)\n",
        "\n",
        "running_total()"
      ]
    },
    {
      "cell_type": "markdown",
      "metadata": {
        "id": "X8pROiEYtKbA"
      },
      "source": [
        "**Another example**\n",
        "\n",
        "We want to take a number from the user and keep dividing it by 2 until the answer is 1 or less, then to print the number of times it was divided. Try it out. If you enter 8 then the answer should be 3, if you enter 6 the answer will also be 3."
      ]
    },
    {
      "cell_type": "code",
      "execution_count": null,
      "metadata": {
        "colab": {
          "base_uri": "https://localhost:8080/"
        },
        "id": "eL9nJORbtTUb",
        "outputId": "02bfd321-7d8c-4420-dfe8-44f91ab23a58"
      },
      "outputs": [
        {
          "name": "stdout",
          "output_type": "stream",
          "text": [
            "Enter a number to be processed7\n",
            "Your number was divided 3 times\n"
          ]
        }
      ],
      "source": [
        "def div_by_two():\n",
        "  num = int(input(\"Enter a number to be processed\"))\n",
        "  number_times_divided = 0\n",
        "  while num > 1:\n",
        "    number_times_divided = number_times_divided + 1\n",
        "    num = num/2\n",
        "  print(\"Your number was divided\", number_times_divided, \"times\") \n",
        "   \n",
        "div_by_two()"
      ]
    },
    {
      "cell_type": "markdown",
      "metadata": {
        "id": "jKqqk9LstW83"
      },
      "source": [
        "*Here are some more examples of use of while loops.*\n",
        "\n",
        "### Ensuring valid input  \n",
        "When reading from the keyboard it is important to ensure that the user only enters valid data. You can do this in a number of ways but a while loop can be used to make the user keep entering data until they enter something that is valid."
      ]
    },
    {
      "cell_type": "code",
      "execution_count": null,
      "metadata": {
        "id": "7_CoIBfluIUG"
      },
      "outputs": [],
      "source": [
        "# read a number from the user\n",
        "# check that the number is a positive integer.  If not, display error messages\n",
        "# keep reading until a positive integer is read\n",
        "\n",
        "def positive_num():\n",
        "  number = -1\n",
        "  while number < 0:\n",
        "    print(\"You must type a number above 0\")\n",
        "    number = int(input(\"Enter a positive number\"))\n",
        "  print(\"Thank you for typing the number\", number)\n",
        "\n",
        "positive_num()"
      ]
    },
    {
      "cell_type": "markdown",
      "metadata": {
        "id": "YiO-WgJ8zzjp"
      },
      "source": [
        "### Take home points\n",
        "\n",
        "* An algorithm is the method for solving a particular problem (e.g. getting the right sort of number, selecting a message depending on input, calculating a new figure, etc)\n",
        "* A while loop will keep repeating while the given condition is TRUE\n",
        "* As soon as the condition becomes false the loop will stop executing\n",
        "* We use while loops when we don't necessarily know how many times a loop will need to repeat, but we do know under what conditions it does need to repeat."
      ]
    },
    {
      "cell_type": "markdown",
      "metadata": {
        "id": "4CS8CNrmQUbO"
      },
      "source": [
        "---\n",
        "### Exercise 1 - get a valid username\n",
        "\n",
        "Write a function called **get_username()** which will:  \n",
        "\n",
        "*  assign the value False to a boolean variable called **valid**  \n",
        "*  start a while loop that will continue to loop while `valid` is False  \n",
        "*  in the loop:  ask the user to enter a **username**,  if the `username` is \"user\" assign the value True to `valid`, otherwise print the message \"Incorrect user name\"   \n",
        "*  after the loop, display the message \"Welcome `username`, you will now be asked to enter your password  \n",
        "\n",
        "Test input:  \n",
        "username   \n",
        "user  \n",
        "\n",
        "Expected output:  \n",
        "Incorrect username  \n",
        "Welcome user you will now be asked to enter your password  "
      ]
    },
    {
      "cell_type": "code",
      "execution_count": null,
      "metadata": {
        "colab": {
          "base_uri": "https://localhost:8080/"
        },
        "id": "nwq55T5eRv7_",
        "outputId": "183d9674-8091-4dc1-e71f-6b5113300ea4"
      },
      "outputs": [
        {
          "name": "stdout",
          "output_type": "stream",
          "text": [
            "Please enter a username david\n",
            "Incorrect username\n",
            "Please enter a username user\n",
            "Welcome user you will now be asked to enter your password\n"
          ]
        }
      ],
      "source": [
        "def get_username():\n",
        "\n",
        "  valid = False\n",
        "\n",
        "  while valid == False:\n",
        "    username = (input(\"Please enter a username \"))\n",
        "    if username == \"user\":\n",
        "      valid = True\n",
        "    else:\n",
        "      print(\"Incorrect username\")\n",
        "\n",
        "  print(\"Welcome\", username, \"you will now be asked to enter your password\")\n",
        "\n",
        "get_username()  "
      ]
    },
    {
      "cell_type": "markdown",
      "metadata": {
        "id": "FXN6-MtQRwb9"
      },
      "source": [
        "---\n",
        "### Exercise 2 - get a valid passcode  \n",
        "\n",
        "Write a function called **get_passcode()** which will:  \n",
        "\n",
        "*  assign the value False to a boolean variable called **valid**  \n",
        "*  start a while loop that will continue to loop while `valid` is False  \n",
        "*  in the loop:  ask the user to enter a **passcode**, if the `passcode` is \"9876\" assign the value True to `valid`, otherwise print the message \"Incorrect passcode\"  \n",
        "*  after the loop, display the message \"Passcode accepted\"    \n",
        "\n",
        "Test input:  \n",
        "1234   \n",
        "9876  \n",
        "\n",
        "Expected output:  \n",
        "Incorrect passcode  \n",
        "Passcode accepted  "
      ]
    },
    {
      "cell_type": "code",
      "execution_count": null,
      "metadata": {
        "colab": {
          "base_uri": "https://localhost:8080/"
        },
        "id": "a0Z_ACOiSxsP",
        "outputId": "0898be73-424a-4268-b059-e30b9831fba8"
      },
      "outputs": [
        {
          "name": "stdout",
          "output_type": "stream",
          "text": [
            "Please input your passcode 1234\n",
            "Incorrect passcode\n",
            "Please input your passcode 9876\n",
            "Passcode accepted\n"
          ]
        }
      ],
      "source": [
        "def get_password():\n",
        "\n",
        "  valid = False\n",
        "\n",
        "  while valid == False:\n",
        "    passcode = input(\"Please input your passcode \")\n",
        "    if passcode == \"9876\":\n",
        "      valid = True\n",
        "    else:\n",
        "      print(\"Incorrect passcode\")\n",
        "\n",
        "  print(\"Passcode accepted\")  \n",
        "\n",
        "get_password()"
      ]
    },
    {
      "cell_type": "markdown",
      "metadata": {
        "id": "DMeDXd7TS0ar"
      },
      "source": [
        "---\n",
        "### Exercise 3 - single digit input  \n",
        "\n",
        "Write a function called **get_digit()** which will:  \n",
        "\n",
        "*  assign the value False to a boolean variable called **valid_digit**  \n",
        "*  use a while loop to repeatedly ask the user to enter a single digit until the value they enter is less than 10     \n",
        "*  in the loop:  ask the user to enter a **single_digit**, if the `single_digit` is less than 10 assign the value True to `valid`, otherwise print the message \"Not a digit\"  \n",
        "*  after the loop, display the message \"Single digit entered\"    \n",
        "\n",
        "Test input:  \n",
        "10   \n",
        "9  \n",
        "\n",
        "Expected output:  \n",
        "Not a digit  \n",
        "Single digit entered  "
      ]
    },
    {
      "cell_type": "code",
      "execution_count": null,
      "metadata": {
        "colab": {
          "base_uri": "https://localhost:8080/"
        },
        "id": "4oGXPcmqTtVN",
        "outputId": "30ba840f-bfe3-45c9-82b5-70981f576714"
      },
      "outputs": [
        {
          "name": "stdout",
          "output_type": "stream",
          "text": [
            "Please a single digit number 10\n",
            "Not a digit\n",
            "Please a single digit number 9\n",
            "Single digit entered\n"
          ]
        }
      ],
      "source": [
        "def get_digit():\n",
        "\n",
        "  valid_digit = False\n",
        "\n",
        "  while valid_digit == False:\n",
        "    single_digit = int(input(\"Please a single digit number \"))\n",
        "    if single_digit < 10:\n",
        "      valid_digit = True\n",
        "      print(\"Single digit entered\")\n",
        "    else:\n",
        "      print(\"Not a digit\")  \n",
        "           \n",
        "\n",
        "     \n",
        "\n",
        "get_digit()  "
      ]
    },
    {
      "cell_type": "markdown",
      "metadata": {
        "id": "o80s4nzfi37X"
      },
      "source": [
        "---\n",
        "### Exercise 4 - positive number input \n",
        "\n",
        "Write a function called **positive_number()** which will:\n",
        "*  ask the user to enter a **number**, the message should indicate that it must be a positive number  \n",
        "*  if `number` is not positive **(ie. less than 1)** show an error message and ask user to re-enter the `number` \n",
        "*  when the `number` is positive, print the `number`\n",
        "\n",
        "Test input:  \n",
        "-1\n",
        "0\n",
        "1\n",
        "\n",
        "Expected output:  \n",
        "It must be a positive number, try again  \n",
        "It must be a positive number, try again  \n",
        "1  "
      ]
    },
    {
      "cell_type": "code",
      "execution_count": null,
      "metadata": {
        "colab": {
          "base_uri": "https://localhost:8080/"
        },
        "id": "BmZjI8PzwdT-",
        "outputId": "26724f15-cf7a-4010-c7c3-086357c5637f"
      },
      "outputs": [
        {
          "name": "stdout",
          "output_type": "stream",
          "text": [
            "Please enter a number -1\n",
            "Please re-enter your number\n",
            "Please enter a number 0\n",
            "Please re-enter your number\n",
            "Please enter a number 1\n",
            "1\n"
          ]
        }
      ],
      "source": [
        "def positive_number():\n",
        "\n",
        "  pos_number = False\n",
        "\n",
        "  while pos_number == False:\n",
        "    number = int(input(\"Please enter a number \"))\n",
        "    if number < 1:\n",
        "      print(\"Please re-enter your number\")\n",
        "    else:\n",
        "      pos_number = True\n",
        "      print(number)  \n",
        "\n",
        "positive_number()  "
      ]
    },
    {
      "cell_type": "markdown",
      "metadata": {
        "id": "xPJfd9lUyULa"
      },
      "source": [
        "---\n",
        "### Exercise 5 - getting a number within limits \n",
        "\n",
        "Write a function called **test_limits()** which will:\n",
        "\n",
        "*  ask the user to enter a number between **1 and 31**\n",
        "*  if the number entered is less than 1 or more than 31, display the error message \"Number out of limits\"  \n",
        "*  continue asking the user until a valid input is given \n",
        "*  when a valid number is given, display the message \"Your number was `number`\" and end the program \n",
        "\n",
        "Test input:  \n",
        "40  \n",
        "50  \n",
        "30  \n",
        "\n",
        "Expected output:  \n",
        "Number out of limits  \n",
        "Number out of limits  \n",
        "Your number was 30  \n"
      ]
    },
    {
      "cell_type": "code",
      "execution_count": null,
      "metadata": {
        "colab": {
          "base_uri": "https://localhost:8080/"
        },
        "id": "MVxhTY6zzq8k",
        "outputId": "8706711e-9762-45f7-c64c-b8b2ac2c2a1a"
      },
      "outputs": [
        {
          "name": "stdout",
          "output_type": "stream",
          "text": [
            "Please enter a number -1\n",
            "Number out of limits\n",
            "Please enter a number 45\n",
            "Number out of limits\n",
            "Please enter a number 15\n",
            "Your number is 15\n"
          ]
        }
      ],
      "source": [
        "def test_limits():\n",
        "\n",
        "  valid = False\n",
        "\n",
        "  while valid == False:\n",
        "    number = int(input(\"Please enter a number \"))\n",
        "    if (int(number < 1)) or (int(number > 30)):\n",
        "      print(\"Number out of limits\")\n",
        "    #elif number > 30:\n",
        "     # print(\"Number out of limits\") \n",
        "    else: \n",
        "      valid = True\n",
        "      print(\"Your number is\", number)\n",
        "\n",
        "\n",
        "\n",
        "test_limits()"
      ]
    },
    {
      "cell_type": "markdown",
      "metadata": {
        "id": "WcHiG9AlUPdr"
      },
      "source": [
        "---\n",
        "### Exercise 6 - getting a number outside range\n",
        "\n",
        "Write a function called **test_outlier()** which will:\n",
        "\n",
        "*  ask the user to enter a **number** that is NOT between 40 and 50  \n",
        "*  if the `number` entered is between 40 and 50 (including both 40 and 50, display the error message \"This is not an outlier\"\n",
        "*  continue asking the user until a valid `number` is given\n",
        "*  when a valid `number` is given, display the message \"You have entered an outlier\" and end the program  \n",
        "\n",
        "Test input:  \n",
        "34  \n",
        "\n",
        "Expected output:  \n",
        "You have entered an outlier  \n",
        "\n",
        "Test input:  \n",
        "44  \n",
        "50  \n",
        "40  \n",
        "34  \n",
        "\n",
        "Expected output:  \n",
        "This is not an outlier  \n",
        "This is not an outlier  \n",
        "This is not an outlier  \n",
        "You have entered an outlier  "
      ]
    },
    {
      "cell_type": "code",
      "execution_count": null,
      "metadata": {
        "colab": {
          "base_uri": "https://localhost:8080/"
        },
        "id": "PqvtQXYnUQ8E",
        "outputId": "24fd3b19-4e6c-4bed-d9f4-fe3df58429d0"
      },
      "outputs": [
        {
          "name": "stdout",
          "output_type": "stream",
          "text": [
            "Please enter a number 44\n",
            "This is not an outliner\n",
            "Please enter a number 50\n",
            "This is not an outliner\n",
            "Please enter a number 40\n",
            "This is not an outliner\n",
            "Please enter a number 34\n",
            "You have entered an outliner\n"
          ]
        }
      ],
      "source": [
        "def test_outliner():\n",
        "\n",
        "  outliner = False\n",
        "\n",
        "  while outliner == False:\n",
        "    number = int(input(\"Please enter a number \"))\n",
        "    if (int(number >= 40)) and (int(number <= 50)):\n",
        "      print(\"This is not an outliner\")\n",
        "    else:\n",
        "      outliner = True\n",
        "      print(\"You have entered an outliner\")  \n",
        "\n",
        "test_outliner()  "
      ]
    },
    {
      "cell_type": "markdown",
      "metadata": {
        "id": "53kjOj7nzri1"
      },
      "source": [
        "---\n",
        "### Exercise 7 - multiplying a number to be greater than 20,000\n",
        "\n",
        "Write a function called **increase_to_twenty_thousand()** that will:\n",
        "\n",
        "*  ask the user to input a **number**\n",
        "*  multiply given `number` by itself repeatedly, printing its value each time it changes, until the  number has become greater (>) than 20,000\n",
        "\n",
        "Test input:  \n",
        "5\n",
        "\n",
        "Expected output:  \n",
        "5   \n",
        "25  \n",
        "125  \n",
        "625  \n",
        "3125  \n",
        "15625  \n",
        "78125  \n",
        " "
      ]
    },
    {
      "cell_type": "code",
      "execution_count": null,
      "metadata": {
        "colab": {
          "base_uri": "https://localhost:8080/"
        },
        "id": "9vzat0W21tNA",
        "outputId": "7995a5ad-345a-442b-a062-063a6ac0a6ab"
      },
      "outputs": [
        {
          "output_type": "stream",
          "name": "stdout",
          "text": [
            "Please enter a number to multiply 4\n",
            "16\n"
          ]
        }
      ],
      "source": [
        "def increase_to_twenty_thousand():\n",
        "  \n",
        "  increase = False\n",
        "  number = 0\n",
        "\n",
        "  while increase == False:\n",
        "    number = int(input(\"Please enter a number to multiply \"))\n",
        "    increase = number * number\n",
        "  \n",
        "      \n",
        "    print(increase)\n",
        "\n",
        "    \n",
        "\n",
        "      \n",
        "\n",
        "\n",
        "\n",
        "\n",
        "increase_to_twenty_thousand()"
      ]
    },
    {
      "cell_type": "markdown",
      "metadata": {
        "id": "wepL2Ufj1uvT"
      },
      "source": [
        "---\n",
        "### Exercise 8 - even and odds \n",
        "\n",
        "Write a function called **get_even_number()** that:\n",
        "\n",
        "*  asks the user to input an even number (divisible by 2)\n",
        "*  if an odd number is given, display message \"That number is odd\"\n",
        "*  once valid input given (even number), display message \"Thanks, that number is even\"\n",
        "\n",
        "Test input:  \n",
        "3  \n",
        "1  \n",
        "2  \n",
        "\n",
        "Expected output:  \n",
        "That number is odd  \n",
        "That number is odd  \n",
        "Thanks, that number is even  \n",
        "\n"
      ]
    },
    {
      "cell_type": "code",
      "execution_count": null,
      "metadata": {
        "colab": {
          "base_uri": "https://localhost:8080/"
        },
        "id": "KME9Qfcs45yJ",
        "outputId": "0a6c3dcf-8e3e-4262-a5f0-cacff7e2c6ea"
      },
      "outputs": [
        {
          "name": "stdout",
          "output_type": "stream",
          "text": [
            "Please input your number 1\n",
            "That number is odd\n",
            "Please input your number 3\n",
            "That number is odd\n",
            "Please input your number 2\n",
            "Thanks, that number is even\n"
          ]
        }
      ],
      "source": [
        "def get_even_number():\n",
        "\n",
        "  even_number = False\n",
        "  \n",
        "  while even_number == False:\n",
        "    number = int(input(\"Please input your number \"))\n",
        "    \n",
        "    if number % 2 == 1:\n",
        "      print(\"That number is odd\")\n",
        "    \n",
        "    else:\n",
        "      even_number = True\n",
        "      print(\"Thanks, that number is even\")  \n",
        "\n",
        "get_even_number()  "
      ]
    },
    {
      "cell_type": "markdown",
      "metadata": {
        "id": "-p3LVygZwd6R"
      },
      "source": [
        "### Exercise 9 - menu choice \n",
        "\n",
        "Write a function called **show_special_numbers()** which will:\n",
        "\n",
        "*  display the following menu \n",
        "\n",
        "*What value would you like to see?*\n",
        "\n",
        "1. *Pi*\n",
        "2. *Plank’s constant*\n",
        "3. *E*\n",
        "4. *Square root of 2*\n",
        "5. *Quit the program*\n",
        "\n",
        "*  ask the user to input which value they would like to see by typing a number between 1 - 5 \n",
        "*  read and process the choice while the user selects anything other than 5 (Quit the program)\n",
        "\n",
        "To process the choice:  \n",
        "* if the number is 1 - print 3.14159265359\n",
        "* if the number is 2 - print 6.62607004 × 10-34 (in Python this would be written 6.62607004E-34\n",
        "* if the number is 3 - print 2.71828\n",
        "* if the number is 4 - print 1.414\n",
        "* if the number is 5 - print the message (\"Thank you for using this program\")\n",
        "* if the number is anything else - print \"Invalid choice\"\n",
        "\n",
        "The program will print the message associated with the menu choice and will then display the menu again and ask the user to select a choice.  \n",
        "\n",
        "When the user enters 5, the program should stop repeating.\n",
        "\n",
        "Test input:    \n",
        "1  \n",
        "4  \n",
        "6  \n",
        "5  \n",
        "\n",
        "Expected output:    \n",
        "3.14159265359  \n",
        "1.414  \n",
        "Invalid choice  \n",
        "Thank you for using this program  "
      ]
    },
    {
      "cell_type": "code",
      "execution_count": null,
      "metadata": {
        "colab": {
          "base_uri": "https://localhost:8080/"
        },
        "id": "EZdR70D-yP_Y",
        "outputId": "1a7d373d-720d-433d-ea3d-f8bd19924f1b"
      },
      "outputs": [
        {
          "output_type": "stream",
          "name": "stdout",
          "text": [
            "Main Menu\n",
            "1.Pi\n",
            "2.Plank's constant\n",
            "3.E\n",
            "4.Square root of 2\n",
            "5.Quit the program\n",
            "Please enter a number between 1-5 to see the required value 1\n",
            "3.14159265359\n",
            "Main Menu\n",
            "1.Pi\n",
            "2.Plank's constant\n",
            "3.E\n",
            "4.Square root of 2\n",
            "5.Quit the program\n",
            "Please enter a number between 1-5 to see the required value 4\n",
            "1.414\n",
            "Main Menu\n",
            "1.Pi\n",
            "2.Plank's constant\n",
            "3.E\n",
            "4.Square root of 2\n",
            "5.Quit the program\n",
            "Please enter a number between 1-5 to see the required value 6\n",
            "Invalid choice\n",
            "Main Menu\n",
            "1.Pi\n",
            "2.Plank's constant\n",
            "3.E\n",
            "4.Square root of 2\n",
            "5.Quit the program\n",
            "Please enter a number between 1-5 to see the required value 5\n",
            "Thank you for using this program\n"
          ]
        }
      ],
      "source": [
        "def show_special_number():\n",
        "  \n",
        "  special_number = False\n",
        "  M = \"Main Menu\"\n",
        "  P = \"1.Pi\"\n",
        "  pl =\"2.Plank's constant\"\n",
        "  e = \"3.E\"\n",
        "  s = \"4.Square root of 2\"\n",
        "  q = \"5.Quit the program\"\n",
        "\n",
        "  while special_number == False:\n",
        "    print(M)\n",
        "    print(P)\n",
        "    print(pl)\n",
        "    print(e)\n",
        "    print(s)\n",
        "    print(q)\n",
        "    choice = int(input(\"Please enter a number between 1-5 to see the required value \"))\n",
        "\n",
        "    if choice == 1:\n",
        "      print(\"3.14159265359\")\n",
        "    if choice == 2:\n",
        "      print(\"6.62607004 x 10-34 (in Python this would be written 6.62607004E-34\")\n",
        "    if choice == 3:\n",
        "      print(\"2.71728\")\n",
        "    if choice == 4:\n",
        "      print(\"1.414\")\n",
        "    if choice == 5:\n",
        "      special_number = True\n",
        "      print(\"Thank you for using this program\")     \n",
        "    if int(choice < 1) or int(choice > 5):\n",
        "      print(\"Invalid choice\")\n",
        "      \n",
        "show_special_number()"
      ]
    },
    {
      "cell_type": "markdown",
      "metadata": {
        "id": "Ig_WrlmPWG4v"
      },
      "source": [
        "---\n",
        "### Exercise 10 - Guess the number  \n",
        "\n",
        "Write a function called **guess_number(number)** which will:  \n",
        "\n",
        "Ask the user to guess the number within 6 attempts.  \n",
        "\n",
        "The function will be given a random number (called `number`) and should use a while loop that will continue while the user has not guessed correctly and has had less than 6 attempts (don't forget to set the number of attempts to 0 before the loop and increment it every time a guess is made).  \n",
        "\n",
        "In the loop:  \n",
        "\n",
        "*  ask the user to enter a **guess**  \n",
        "*  if the `guess` is greater than the `number` print \"Too high\", if less than the number print \"Too low\" or if correct print \"You guessed it\"  \n",
        "*  count the `attempt`  \n",
        "\n",
        "After the loop if the maximum attempts has been reached, print \"Too many attempts\"\n",
        "\n",
        "\n"
      ]
    },
    {
      "cell_type": "code",
      "execution_count": 32,
      "metadata": {
        "id": "7qagArrHWHGV",
        "colab": {
          "base_uri": "https://localhost:8080/"
        },
        "outputId": "5635a7d3-e0bc-468a-83c8-e4ceb917a8b4"
      },
      "outputs": [
        {
          "output_type": "stream",
          "name": "stdout",
          "text": [
            "Please guess a number? 1\n",
            "Too low\n",
            "Please guess a number? 2\n",
            "Too low\n",
            "Please guess a number? 3\n",
            "Too low\n",
            "Please guess a number? 4\n",
            "Too low\n",
            "Please guess a number? 5\n",
            "Too low\n",
            "Too many attempts\n"
          ]
        }
      ],
      "source": [
        "from random import randint\n",
        "\n",
        "def guess_number(number):\n",
        "  # add your code below here, remembering to indent\n",
        "  attempt = 0\n",
        "  guess = False\n",
        "  \n",
        "  while guess != number and attempt < 6:\n",
        "    guess = (int(input(\"Please guess a number? \")))\n",
        "    attempt = guess + 1\n",
        "    if int(number > guess):\n",
        "      print(\"Too low\") \n",
        "    if int(number < guess):\n",
        "      print(\"Too high\")  \n",
        "  \n",
        "  \n",
        "  else:\n",
        "     guess == 5\n",
        "     print(\"Too many attempts\")\n",
        "\n",
        "\n",
        "guess_number(randint(1,50))"
      ]
    }
  ],
  "metadata": {
    "colab": {
      "collapsed_sections": [],
      "name": "Copy of WhileLoops1.ipynb",
      "provenance": [],
      "include_colab_link": true
    },
    "kernelspec": {
      "display_name": "Python 3",
      "name": "python3"
    }
  },
  "nbformat": 4,
  "nbformat_minor": 0
}